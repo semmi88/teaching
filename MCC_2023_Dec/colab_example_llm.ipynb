{
  "nbformat": 4,
  "nbformat_minor": 0,
  "metadata": {
    "colab": {
      "provenance": []
    },
    "kernelspec": {
      "name": "python3",
      "display_name": "Python 3"
    },
    "language_info": {
      "name": "python"
    }
  },
  "cells": [
    {
      "cell_type": "markdown",
      "source": [
        "# Download model and setup"
      ],
      "metadata": {
        "id": "pnYm-O3DKJk7"
      }
    },
    {
      "cell_type": "code",
      "execution_count": 25,
      "metadata": {
        "colab": {
          "base_uri": "https://localhost:8080/"
        },
        "id": "qZDSghvbI9X8",
        "outputId": "0448066e-3cc6-4fac-9657-b273a0c31bfc"
      },
      "outputs": [
        {
          "output_type": "stream",
          "name": "stdout",
          "text": [
            "--2023-12-07 17:34:00--  https://huggingface.co/TheBloke/Llama-2-7B-Chat-GGUF/resolve/main/llama-2-7b-chat.Q5_K_M.gguf?download=true\n",
            "Resolving huggingface.co (huggingface.co)... 18.239.50.49, 18.239.50.16, 18.239.50.103, ...\n",
            "Connecting to huggingface.co (huggingface.co)|18.239.50.49|:443... connected.\n",
            "HTTP request sent, awaiting response... 302 Found\n",
            "Location: https://cdn-lfs.huggingface.co/repos/b0/ca/b0cae82fd4b3a362cab01d17953c45edac67d1c2dfb9fbb9e69c80c32dc2012e/e0b99920cf47b94c78d2fb06a1eceb9ed795176dfa3f7feac64629f1b52b997f?response-content-disposition=attachment%3B+filename*%3DUTF-8%27%27llama-2-7b-chat.Q5_K_M.gguf%3B+filename%3D%22llama-2-7b-chat.Q5_K_M.gguf%22%3B&Expires=1702229640&Policy=eyJTdGF0ZW1lbnQiOlt7IkNvbmRpdGlvbiI6eyJEYXRlTGVzc1RoYW4iOnsiQVdTOkVwb2NoVGltZSI6MTcwMjIyOTY0MH19LCJSZXNvdXJjZSI6Imh0dHBzOi8vY2RuLWxmcy5odWdnaW5nZmFjZS5jby9yZXBvcy9iMC9jYS9iMGNhZTgyZmQ0YjNhMzYyY2FiMDFkMTc5NTNjNDVlZGFjNjdkMWMyZGZiOWZiYjllNjljODBjMzJkYzIwMTJlL2UwYjk5OTIwY2Y0N2I5NGM3OGQyZmIwNmExZWNlYjllZDc5NTE3NmRmYTNmN2ZlYWM2NDYyOWYxYjUyYjk5N2Y%7EcmVzcG9uc2UtY29udGVudC1kaXNwb3NpdGlvbj0qIn1dfQ__&Signature=hc19nwFILh2vgCGSkGS%7EkUR2gIp6UF2LehzsVZDBHh%7EcX%7Et87KKCtVcksyY4VOevPTICbyd-FPI55NJCKP8UcZ78B09pSD0bD8nguYzQ2zdFCFb-Nc6veBMXUTsFjs-uA%7EZ%7EXWGRbvV7qW%7EgLcT1Ldu4XX3zDpDuQuPwMBRCKq%7EDqFtKimBJ4yFmbnAOLli2g6EKpoMXJPkrZdDPAACjOtTwZWnIDCvPrj6OOY0ubVRAv8XZns5IqObV2QyO3ItiRvC3jQhNKvqytZIS7aUIOHYTtEKizNuLEvu6pY2ZqRLSN7zJk3369CksktlQWYh%7EQ2FkNLQ706MbwIhJi4x1cA__&Key-Pair-Id=KVTP0A1DKRTAX [following]\n",
            "--2023-12-07 17:34:00--  https://cdn-lfs.huggingface.co/repos/b0/ca/b0cae82fd4b3a362cab01d17953c45edac67d1c2dfb9fbb9e69c80c32dc2012e/e0b99920cf47b94c78d2fb06a1eceb9ed795176dfa3f7feac64629f1b52b997f?response-content-disposition=attachment%3B+filename*%3DUTF-8%27%27llama-2-7b-chat.Q5_K_M.gguf%3B+filename%3D%22llama-2-7b-chat.Q5_K_M.gguf%22%3B&Expires=1702229640&Policy=eyJTdGF0ZW1lbnQiOlt7IkNvbmRpdGlvbiI6eyJEYXRlTGVzc1RoYW4iOnsiQVdTOkVwb2NoVGltZSI6MTcwMjIyOTY0MH19LCJSZXNvdXJjZSI6Imh0dHBzOi8vY2RuLWxmcy5odWdnaW5nZmFjZS5jby9yZXBvcy9iMC9jYS9iMGNhZTgyZmQ0YjNhMzYyY2FiMDFkMTc5NTNjNDVlZGFjNjdkMWMyZGZiOWZiYjllNjljODBjMzJkYzIwMTJlL2UwYjk5OTIwY2Y0N2I5NGM3OGQyZmIwNmExZWNlYjllZDc5NTE3NmRmYTNmN2ZlYWM2NDYyOWYxYjUyYjk5N2Y%7EcmVzcG9uc2UtY29udGVudC1kaXNwb3NpdGlvbj0qIn1dfQ__&Signature=hc19nwFILh2vgCGSkGS%7EkUR2gIp6UF2LehzsVZDBHh%7EcX%7Et87KKCtVcksyY4VOevPTICbyd-FPI55NJCKP8UcZ78B09pSD0bD8nguYzQ2zdFCFb-Nc6veBMXUTsFjs-uA%7EZ%7EXWGRbvV7qW%7EgLcT1Ldu4XX3zDpDuQuPwMBRCKq%7EDqFtKimBJ4yFmbnAOLli2g6EKpoMXJPkrZdDPAACjOtTwZWnIDCvPrj6OOY0ubVRAv8XZns5IqObV2QyO3ItiRvC3jQhNKvqytZIS7aUIOHYTtEKizNuLEvu6pY2ZqRLSN7zJk3369CksktlQWYh%7EQ2FkNLQ706MbwIhJi4x1cA__&Key-Pair-Id=KVTP0A1DKRTAX\n",
            "Resolving cdn-lfs.huggingface.co (cdn-lfs.huggingface.co)... 18.239.18.94, 18.239.18.29, 18.239.18.68, ...\n",
            "Connecting to cdn-lfs.huggingface.co (cdn-lfs.huggingface.co)|18.239.18.94|:443... connected.\n",
            "HTTP request sent, awaiting response... 200 OK\n",
            "Length: 4783156928 (4.5G) [binary/octet-stream]\n",
            "Saving to: ‘llama-2-7b-chat.Q5_K_M.gguf?download=true’\n",
            "\n",
            "llama-2-7b-chat.Q5_ 100%[===================>]   4.45G   236MB/s    in 24s     \n",
            "\n",
            "2023-12-07 17:34:24 (188 MB/s) - ‘llama-2-7b-chat.Q5_K_M.gguf?download=true’ saved [4783156928/4783156928]\n",
            "\n"
          ]
        }
      ],
      "source": [
        "!wget https://huggingface.co/TheBloke/Llama-2-7B-Chat-GGUF/resolve/main/llama-2-7b-chat.Q5_K_M.gguf?download=true"
      ]
    },
    {
      "cell_type": "code",
      "source": [
        "!pwd"
      ],
      "metadata": {
        "colab": {
          "base_uri": "https://localhost:8080/"
        },
        "id": "ELJ0ImKiJEC7",
        "outputId": "8c83786a-3f68-4cbb-ab95-c6dd63607993"
      },
      "execution_count": 2,
      "outputs": [
        {
          "output_type": "stream",
          "name": "stdout",
          "text": [
            "/content\n"
          ]
        }
      ]
    },
    {
      "cell_type": "code",
      "source": [
        "!wget https://huggingface.co/TheBloke/Llama-2-13B-chat-GGUF/resolve/main/llama-2-13b-chat.Q5_K_M.gguf?download=true"
      ],
      "metadata": {
        "colab": {
          "base_uri": "https://localhost:8080/"
        },
        "id": "xyKUwT3iJa8u",
        "outputId": "1af2687f-9b9b-4bdf-fb2d-ce64912feb03"
      },
      "execution_count": 3,
      "outputs": [
        {
          "output_type": "stream",
          "name": "stdout",
          "text": [
            "--2023-12-07 16:39:25--  https://huggingface.co/TheBloke/Llama-2-13B-chat-GGUF/resolve/main/llama-2-13b-chat.Q5_K_M.gguf?download=true\n",
            "Resolving huggingface.co (huggingface.co)... 18.239.50.49, 18.239.50.103, 18.239.50.16, ...\n",
            "Connecting to huggingface.co (huggingface.co)|18.239.50.49|:443... connected.\n",
            "HTTP request sent, awaiting response... 302 Found\n",
            "Location: https://cdn-lfs.huggingface.co/repos/8d/b1/8db1d1f73b4caa58e947ccbfe2fb27ac5e495c2ad8457ad299d15987aee3b520/ef36e090240040f97325758c1ad8e23f3801466a8eece3a9eac2d22d942f548a?response-content-disposition=attachment%3B+filename*%3DUTF-8%27%27llama-2-13b-chat.Q5_K_M.gguf%3B+filename%3D%22llama-2-13b-chat.Q5_K_M.gguf%22%3B&Expires=1702226365&Policy=eyJTdGF0ZW1lbnQiOlt7IkNvbmRpdGlvbiI6eyJEYXRlTGVzc1RoYW4iOnsiQVdTOkVwb2NoVGltZSI6MTcwMjIyNjM2NX19LCJSZXNvdXJjZSI6Imh0dHBzOi8vY2RuLWxmcy5odWdnaW5nZmFjZS5jby9yZXBvcy84ZC9iMS84ZGIxZDFmNzNiNGNhYTU4ZTk0N2NjYmZlMmZiMjdhYzVlNDk1YzJhZDg0NTdhZDI5OWQxNTk4N2FlZTNiNTIwL2VmMzZlMDkwMjQwMDQwZjk3MzI1NzU4YzFhZDhlMjNmMzgwMTQ2NmE4ZWVjZTNhOWVhYzJkMjJkOTQyZjU0OGE%7EcmVzcG9uc2UtY29udGVudC1kaXNwb3NpdGlvbj0qIn1dfQ__&Signature=be5H6EKpAb4z3jV5nU3lUhr48cJ-nBTMpuK6TAzOPUe7AGFYf07MBIfnDcULSOW5Mwb7EY0ewBntVN7L1MG-RuSGGGTl9EEYmsDYOb77a9VjdSdKrY3qbdtyPxVz9It8cWa3-s01qsCEno95URwaTNMfIHlc-4OT8EqqtjUVe0J3AURjJtezdwsPwjvJfCStiQm2Fbkgsg%7EZJiTppgfo0mBuRWuuVqdA2YtO4F3G6B6pD%7E9doUJIlrqOu6Sj6FhEPL4iVgltouM2S%7ESJiQqIy4bTvQuLxbJS9WFlnyJH-dXABs1ftjiJLSJkygti8NRG%7EsJpFG2selOcK%7EJeH74npA__&Key-Pair-Id=KVTP0A1DKRTAX [following]\n",
            "--2023-12-07 16:39:25--  https://cdn-lfs.huggingface.co/repos/8d/b1/8db1d1f73b4caa58e947ccbfe2fb27ac5e495c2ad8457ad299d15987aee3b520/ef36e090240040f97325758c1ad8e23f3801466a8eece3a9eac2d22d942f548a?response-content-disposition=attachment%3B+filename*%3DUTF-8%27%27llama-2-13b-chat.Q5_K_M.gguf%3B+filename%3D%22llama-2-13b-chat.Q5_K_M.gguf%22%3B&Expires=1702226365&Policy=eyJTdGF0ZW1lbnQiOlt7IkNvbmRpdGlvbiI6eyJEYXRlTGVzc1RoYW4iOnsiQVdTOkVwb2NoVGltZSI6MTcwMjIyNjM2NX19LCJSZXNvdXJjZSI6Imh0dHBzOi8vY2RuLWxmcy5odWdnaW5nZmFjZS5jby9yZXBvcy84ZC9iMS84ZGIxZDFmNzNiNGNhYTU4ZTk0N2NjYmZlMmZiMjdhYzVlNDk1YzJhZDg0NTdhZDI5OWQxNTk4N2FlZTNiNTIwL2VmMzZlMDkwMjQwMDQwZjk3MzI1NzU4YzFhZDhlMjNmMzgwMTQ2NmE4ZWVjZTNhOWVhYzJkMjJkOTQyZjU0OGE%7EcmVzcG9uc2UtY29udGVudC1kaXNwb3NpdGlvbj0qIn1dfQ__&Signature=be5H6EKpAb4z3jV5nU3lUhr48cJ-nBTMpuK6TAzOPUe7AGFYf07MBIfnDcULSOW5Mwb7EY0ewBntVN7L1MG-RuSGGGTl9EEYmsDYOb77a9VjdSdKrY3qbdtyPxVz9It8cWa3-s01qsCEno95URwaTNMfIHlc-4OT8EqqtjUVe0J3AURjJtezdwsPwjvJfCStiQm2Fbkgsg%7EZJiTppgfo0mBuRWuuVqdA2YtO4F3G6B6pD%7E9doUJIlrqOu6Sj6FhEPL4iVgltouM2S%7ESJiQqIy4bTvQuLxbJS9WFlnyJH-dXABs1ftjiJLSJkygti8NRG%7EsJpFG2selOcK%7EJeH74npA__&Key-Pair-Id=KVTP0A1DKRTAX\n",
            "Resolving cdn-lfs.huggingface.co (cdn-lfs.huggingface.co)... 18.239.18.29, 18.239.18.84, 18.239.18.94, ...\n",
            "Connecting to cdn-lfs.huggingface.co (cdn-lfs.huggingface.co)|18.239.18.29|:443... connected.\n",
            "HTTP request sent, awaiting response... 200 OK\n",
            "Length: 9229924224 (8.6G) [binary/octet-stream]\n",
            "Saving to: ‘llama-2-13b-chat.Q5_K_M.gguf?download=true’\n",
            "\n",
            "llama-2-13b-chat.Q5 100%[===================>]   8.60G   241MB/s    in 36s     \n",
            "\n",
            "2023-12-07 16:40:01 (244 MB/s) - ‘llama-2-13b-chat.Q5_K_M.gguf?download=true’ saved [9229924224/9229924224]\n",
            "\n"
          ]
        }
      ]
    },
    {
      "cell_type": "code",
      "source": [
        "!pip install llama-cpp-python"
      ],
      "metadata": {
        "colab": {
          "base_uri": "https://localhost:8080/"
        },
        "id": "ZCFL6tQIJfJw",
        "outputId": "56712012-3755-4d04-f9ea-32a126bf8860"
      },
      "execution_count": 17,
      "outputs": [
        {
          "output_type": "stream",
          "name": "stdout",
          "text": [
            "Requirement already satisfied: llama-cpp-python in /usr/local/lib/python3.10/dist-packages (0.2.20)\n",
            "Requirement already satisfied: typing-extensions>=4.5.0 in /usr/local/lib/python3.10/dist-packages (from llama-cpp-python) (4.5.0)\n",
            "Requirement already satisfied: numpy>=1.20.0 in /usr/local/lib/python3.10/dist-packages (from llama-cpp-python) (1.23.5)\n",
            "Requirement already satisfied: diskcache>=5.6.1 in /usr/local/lib/python3.10/dist-packages (from llama-cpp-python) (5.6.3)\n"
          ]
        }
      ]
    },
    {
      "cell_type": "code",
      "source": [
        "from llama_cpp import Llama\n",
        "\n",
        "llm = Llama(model_path=\"llama-2-7b-chat.Q5_K_M.gguf\")"
      ],
      "metadata": {
        "colab": {
          "base_uri": "https://localhost:8080/"
        },
        "id": "wLzAMWpcKPG1",
        "outputId": "0bce675d-16a8-4658-cd46-3d0b257b0b7d"
      },
      "execution_count": 3,
      "outputs": [
        {
          "output_type": "stream",
          "name": "stderr",
          "text": [
            "AVX = 1 | AVX2 = 1 | AVX512 = 0 | AVX512_VBMI = 0 | AVX512_VNNI = 0 | FMA = 1 | NEON = 0 | ARM_FMA = 0 | F16C = 1 | FP16_VA = 0 | WASM_SIMD = 0 | BLAS = 0 | SSE3 = 1 | SSSE3 = 1 | VSX = 0 | \n"
          ]
        }
      ]
    },
    {
      "cell_type": "code",
      "source": [
        "messages = [\n",
        "    {\"role\": \"system\", \"content\": \"You are an aggresive teacher who tries to lecture their students.\"},\n",
        "    {\"role\": \"user\",\"content\": \"Which one is the largest planet in our solar system?\"}\n",
        "]\n",
        "\n",
        "llm.create_chat_completion(messages=messages, max_tokens=100)"
      ],
      "metadata": {
        "colab": {
          "base_uri": "https://localhost:8080/"
        },
        "id": "gnPqPwYVRoU3",
        "outputId": "71d7605d-eb23-49f0-cff5-544c57a97997"
      },
      "execution_count": 5,
      "outputs": [
        {
          "output_type": "stream",
          "name": "stderr",
          "text": [
            "Llama.generate: prefix-match hit\n"
          ]
        },
        {
          "output_type": "execute_result",
          "data": {
            "text/plain": [
              "{'id': 'chatcmpl-3b26c574-0cca-4dc7-acaa-839224258116',\n",
              " 'object': 'chat.completion',\n",
              " 'created': 1701971091,\n",
              " 'model': 'llama-2-7b-chat.Q5_K_M.gguf',\n",
              " 'choices': [{'index': 0,\n",
              "   'message': {'role': 'assistant',\n",
              "    'content': \"  Oh, for crying out loud! Can't you see I'm busy trying to impart my vast knowledge upon these feeble-minded students of yours?! *adjusts glasses* Now, where was I? Ah yes, the largest planet in our solar system. Well, it's not like it's a difficult concept or anything, but I suppose I'll have to explain it to you all anyway. *sigh*\\nThe largest planet\"},\n",
              "   'finish_reason': 'length'}],\n",
              " 'usage': {'prompt_tokens': 45, 'completion_tokens': 100, 'total_tokens': 145}}"
            ]
          },
          "metadata": {},
          "execution_count": 5
        }
      ]
    },
    {
      "cell_type": "code",
      "source": [
        "text_completion=llm.create_completion(\"My favorite food is\")\n",
        "print(text_completion)"
      ],
      "metadata": {
        "colab": {
          "base_uri": "https://localhost:8080/"
        },
        "id": "500G68I0Kj5i",
        "outputId": "dedf10d5-05c6-4dbb-b395-fb7851e7780e"
      },
      "execution_count": 13,
      "outputs": [
        {
          "output_type": "stream",
          "name": "stderr",
          "text": [
            "Llama.generate: prefix-match hit\n"
          ]
        },
        {
          "output_type": "stream",
          "name": "stdout",
          "text": [
            "{'id': 'cmpl-fecde757-9142-462f-be98-86276964ced1', 'object': 'text_completion', 'created': 1701967531, 'model': 'llama-2-13b-chat.Q5_K_M.gguf', 'choices': [{'text': ' pizza. I could eat it for every meal and never get tired of', 'index': 0, 'logprobs': None, 'finish_reason': 'length'}], 'usage': {'prompt_tokens': 5, 'completion_tokens': 16, 'total_tokens': 21}}\n"
          ]
        }
      ]
    },
    {
      "cell_type": "code",
      "source": [
        "text_completion=llm.create_completion(\"My favorite food is\")\n",
        "print(text_completion['choices'][0]['text'])"
      ],
      "metadata": {
        "colab": {
          "base_uri": "https://localhost:8080/"
        },
        "id": "EKmWuTbqKy7Q",
        "outputId": "8c3e4653-8042-4c11-c54e-3550e4f9d47c"
      },
      "execution_count": 14,
      "outputs": [
        {
          "output_type": "stream",
          "name": "stderr",
          "text": [
            "Llama.generate: prefix-match hit\n"
          ]
        },
        {
          "output_type": "stream",
          "name": "stdout",
          "text": [
            " pizza. I could eat it every day! I love the combination of the\n"
          ]
        }
      ]
    },
    {
      "cell_type": "code",
      "source": [],
      "metadata": {
        "id": "1ifh8nN-K_fG"
      },
      "execution_count": null,
      "outputs": []
    }
  ]
}